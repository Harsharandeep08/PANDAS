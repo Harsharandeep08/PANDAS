{
 "cells": [
  {
   "cell_type": "code",
   "execution_count": 158,
   "id": "16cadbfd-e70a-42ba-99ff-84e27b812da3",
   "metadata": {},
   "outputs": [],
   "source": [
    "import pandas as pd"
   ]
  },
  {
   "cell_type": "code",
   "execution_count": 160,
   "id": "fb061b69-d60b-4d21-b0de-c80e95d3519c",
   "metadata": {},
   "outputs": [],
   "source": [
    "raw_df=pd.read_csv(r\"C:\\Users\\Harshdeep\\Desktop\\data analytics\\18nov\\raw_data.csv\") # read raw data file"
   ]
  },
  {
   "cell_type": "code",
   "execution_count": 162,
   "id": "8db50c25-e933-4c61-9d24-64533203cc3e",
   "metadata": {},
   "outputs": [
    {
     "data": {
      "text/html": [
       "<div>\n",
       "<style scoped>\n",
       "    .dataframe tbody tr th:only-of-type {\n",
       "        vertical-align: middle;\n",
       "    }\n",
       "\n",
       "    .dataframe tbody tr th {\n",
       "        vertical-align: top;\n",
       "    }\n",
       "\n",
       "    .dataframe thead th {\n",
       "        text-align: right;\n",
       "    }\n",
       "</style>\n",
       "<table border=\"1\" class=\"dataframe\">\n",
       "  <thead>\n",
       "    <tr style=\"text-align: right;\">\n",
       "      <th></th>\n",
       "      <th>ADDR</th>\n",
       "      <th>DT</th>\n",
       "      <th>NAME</th>\n",
       "      <th>time</th>\n",
       "    </tr>\n",
       "  </thead>\n",
       "  <tbody>\n",
       "    <tr>\n",
       "      <th>0</th>\n",
       "      <td>45 rd, kenith street, btm, bangalore, 500038</td>\n",
       "      <td>2022-04-03</td>\n",
       "      <td>abc</td>\n",
       "      <td>8:30:21</td>\n",
       "    </tr>\n",
       "    <tr>\n",
       "      <th>1</th>\n",
       "      <td>45 rd,  street, hitech, Hd ,500038</td>\n",
       "      <td>2022-04-02</td>\n",
       "      <td>dec</td>\n",
       "      <td>5:30:21</td>\n",
       "    </tr>\n",
       "  </tbody>\n",
       "</table>\n",
       "</div>"
      ],
      "text/plain": [
       "                                           ADDR          DT NAME     time\n",
       "0  45 rd, kenith street, btm, bangalore, 500038  2022-04-03  abc  8:30:21\n",
       "1            45 rd,  street, hitech, Hd ,500038  2022-04-02  dec  5:30:21"
      ]
     },
     "execution_count": 162,
     "metadata": {},
     "output_type": "execute_result"
    }
   ],
   "source": [
    "raw_df"
   ]
  },
  {
   "cell_type": "code",
   "execution_count": 164,
   "id": "cce11a4f-6d1d-4708-a16c-478129ff9c49",
   "metadata": {},
   "outputs": [
    {
     "data": {
      "text/plain": [
       "RangeIndex(start=0, stop=2, step=1)"
      ]
     },
     "execution_count": 164,
     "metadata": {},
     "output_type": "execute_result"
    }
   ],
   "source": [
    "raw_df.index"
   ]
  },
  {
   "cell_type": "code",
   "execution_count": 211,
   "id": "a44fe4b9-5466-4fb1-ab40-6b9a3b468f1c",
   "metadata": {},
   "outputs": [
    {
     "data": {
      "text/plain": [
       "<bound method DataFrame.info of                                            ADDR          DT NAME     time  \\\n",
       "0  45 rd, kenith street, btm, bangalore, 500038  2022-04-03  abc  8:30:21   \n",
       "1            45 rd,  street, hitech, Hd ,500038  2022-04-02  dec  5:30:21   \n",
       "\n",
       "  House add          street     city       state      zip  \n",
       "0     45 rd   kenith street      btm   bangalore   500038  \n",
       "1     45 rd          street   hitech         Hd    500038  >"
      ]
     },
     "execution_count": 211,
     "metadata": {},
     "output_type": "execute_result"
    }
   ],
   "source": [
    "raw_df.info"
   ]
  },
  {
   "cell_type": "code",
   "execution_count": 213,
   "id": "41d80cc1-a6ef-411d-8e1a-761640cb2606",
   "metadata": {},
   "outputs": [
    {
     "data": {
      "text/plain": [
       "Index(['ADDR', 'DT', 'NAME', 'time', 'House add', 'street', 'city', 'state',\n",
       "       'zip'],\n",
       "      dtype='object')"
      ]
     },
     "execution_count": 213,
     "metadata": {},
     "output_type": "execute_result"
    }
   ],
   "source": [
    "raw_df.columns"
   ]
  },
  {
   "cell_type": "code",
   "execution_count": 215,
   "id": "5ff63810-fba6-42ba-8398-56c8aaa3eba6",
   "metadata": {},
   "outputs": [
    {
     "data": {
      "text/plain": [
       "0    45 rd, kenith street, btm, bangalore, 500038\n",
       "1              45 rd,  street, hitech, Hd ,500038\n",
       "Name: ADDR, dtype: object"
      ]
     },
     "execution_count": 215,
     "metadata": {},
     "output_type": "execute_result"
    }
   ],
   "source": [
    "raw_df['ADDR']"
   ]
  },
  {
   "cell_type": "code",
   "execution_count": 217,
   "id": "c941512c-acd6-48e8-a7ea-229296ba5ff5",
   "metadata": {},
   "outputs": [
    {
     "data": {
      "text/plain": [
       "'45 rd, kenith street, btm, bangalore, 500038'"
      ]
     },
     "execution_count": 217,
     "metadata": {},
     "output_type": "execute_result"
    }
   ],
   "source": [
    "raw_df.ADDR[0]"
   ]
  },
  {
   "cell_type": "code",
   "execution_count": 219,
   "id": "1eb24172-4d9c-4eef-a177-3820ceb7b5ed",
   "metadata": {},
   "outputs": [
    {
     "data": {
      "text/plain": [
       "'2022-04-03'"
      ]
     },
     "execution_count": 219,
     "metadata": {},
     "output_type": "execute_result"
    }
   ],
   "source": [
    "raw_df.DT[0]"
   ]
  },
  {
   "cell_type": "code",
   "execution_count": 221,
   "id": "7d008446-a722-4ce4-b75d-930905cda8d9",
   "metadata": {},
   "outputs": [
    {
     "data": {
      "text/plain": [
       "'abc'"
      ]
     },
     "execution_count": 221,
     "metadata": {},
     "output_type": "execute_result"
    }
   ],
   "source": [
    "raw_df.NAME[0]"
   ]
  },
  {
   "cell_type": "code",
   "execution_count": 223,
   "id": "fb8d86c0-82e4-4506-926a-3a5a0918332e",
   "metadata": {},
   "outputs": [
    {
     "data": {
      "text/plain": [
       "'8:30:21'"
      ]
     },
     "execution_count": 223,
     "metadata": {},
     "output_type": "execute_result"
    }
   ],
   "source": [
    "raw_df.time[0]"
   ]
  },
  {
   "cell_type": "code",
   "execution_count": 225,
   "id": "c812a07b-ddf0-40b9-8f0d-c173841baa82",
   "metadata": {},
   "outputs": [
    {
     "name": "stdout",
     "output_type": "stream",
     "text": [
      "                                           ADDR          DT NAME     time  \\\n",
      "0  45 rd, kenith street, btm, bangalore, 500038  2022-04-03  abc  8:30:21   \n",
      "1            45 rd,  street, hitech, Hd ,500038  2022-04-02  dec  5:30:21   \n",
      "\n",
      "  House add          street     city       state      zip  \n",
      "0     45 rd   kenith street      btm   bangalore   500038  \n",
      "1     45 rd          street   hitech         Hd    500038  \n"
     ]
    }
   ],
   "source": [
    "raw_df[[\"House add\",\"street\",\"city\",\"state\",\"zip\"]] = raw_df.ADDR.str.split(\",\",expand=True) # split adress column by using str.split function\n",
    "print(raw_df)"
   ]
  },
  {
   "cell_type": "code",
   "execution_count": 229,
   "id": "cc3f325a-6c94-40e4-a104-fc9459625d87",
   "metadata": {},
   "outputs": [
    {
     "name": "stdout",
     "output_type": "stream",
     "text": [
      "                                           ADDR          DT NAME     time  \\\n",
      "0  45 rd, kenith street, btm, bangalore, 500038  2022-04-03  abc  8:30:21   \n",
      "1            45 rd,  street, hitech, Hd ,500038  2022-04-02  dec  5:30:21   \n",
      "\n",
      "  House add          street     city       state      zip  Year Month Date  \n",
      "0     45 rd   kenith street      btm   bangalore   500038  2022    04   03  \n",
      "1     45 rd          street   hitech         Hd    500038  2022    04   02  \n"
     ]
    }
   ],
   "source": [
    "raw_df[[\"Year\",\"Month\",\"Date\"]] = raw_df.DT.str.split(\"-\", expand=True) # split DT column\n",
    "print(raw_df)"
   ]
  },
  {
   "cell_type": "code",
   "execution_count": 116,
   "id": "aaaf13cf-ac14-4f23-b8ca-66f4cc70224e",
   "metadata": {},
   "outputs": [
    {
     "name": "stdout",
     "output_type": "stream",
     "text": [
      "                                           ADDR          DT NAME     time  \\\n",
      "0  45 rd, kenith street, btm, bangalore, 500038  2022-04-03  abc  8:30:21   \n",
      "1            45 rd,  street, hitech, Hd .500038  2022-04-02  dec  5:30:21   \n",
      "\n",
      "  House add          street     city        state      zip  Year Month Day  \\\n",
      "0     45 rd   kenith street      btm    bangalore   500038  2022    04  03   \n",
      "1     45 rd          street   hitech   Hd .500038     None  2022    04  02   \n",
      "\n",
      "  minute second  ms  \n",
      "0      8     30  21  \n",
      "1      5     30  21  \n"
     ]
    }
   ],
   "source": [
    "raw_df[[\"minute\",\"second\",\"ms\"]] = raw_df.time.str.split(\":\", expand=True) # split time column\n",
    "print(raw_df)"
   ]
  },
  {
   "cell_type": "code",
   "execution_count": 235,
   "id": "d7de3ccb-3fae-4031-b83f-17d2222bef8b",
   "metadata": {},
   "outputs": [
    {
     "data": {
      "text/html": [
       "<div>\n",
       "<style scoped>\n",
       "    .dataframe tbody tr th:only-of-type {\n",
       "        vertical-align: middle;\n",
       "    }\n",
       "\n",
       "    .dataframe tbody tr th {\n",
       "        vertical-align: top;\n",
       "    }\n",
       "\n",
       "    .dataframe thead th {\n",
       "        text-align: right;\n",
       "    }\n",
       "</style>\n",
       "<table border=\"1\" class=\"dataframe\">\n",
       "  <thead>\n",
       "    <tr style=\"text-align: right;\">\n",
       "      <th></th>\n",
       "      <th>DT</th>\n",
       "      <th>NAME</th>\n",
       "      <th>time</th>\n",
       "      <th>House add</th>\n",
       "      <th>street</th>\n",
       "      <th>city</th>\n",
       "      <th>state</th>\n",
       "      <th>zip</th>\n",
       "      <th>Year</th>\n",
       "      <th>Month</th>\n",
       "      <th>Date</th>\n",
       "    </tr>\n",
       "  </thead>\n",
       "  <tbody>\n",
       "    <tr>\n",
       "      <th>0</th>\n",
       "      <td>2022-04-03</td>\n",
       "      <td>abc</td>\n",
       "      <td>8:30:21</td>\n",
       "      <td>45 rd</td>\n",
       "      <td>kenith street</td>\n",
       "      <td>btm</td>\n",
       "      <td>bangalore</td>\n",
       "      <td>500038</td>\n",
       "      <td>2022</td>\n",
       "      <td>04</td>\n",
       "      <td>03</td>\n",
       "    </tr>\n",
       "    <tr>\n",
       "      <th>1</th>\n",
       "      <td>2022-04-02</td>\n",
       "      <td>dec</td>\n",
       "      <td>5:30:21</td>\n",
       "      <td>45 rd</td>\n",
       "      <td>street</td>\n",
       "      <td>hitech</td>\n",
       "      <td>Hd</td>\n",
       "      <td>500038</td>\n",
       "      <td>2022</td>\n",
       "      <td>04</td>\n",
       "      <td>02</td>\n",
       "    </tr>\n",
       "  </tbody>\n",
       "</table>\n",
       "</div>"
      ],
      "text/plain": [
       "           DT NAME     time House add          street     city       state  \\\n",
       "0  2022-04-03  abc  8:30:21     45 rd   kenith street      btm   bangalore   \n",
       "1  2022-04-02  dec  5:30:21     45 rd          street   hitech         Hd    \n",
       "\n",
       "       zip  Year Month Date  \n",
       "0   500038  2022    04   03  \n",
       "1   500038  2022    04   02  "
      ]
     },
     "execution_count": 235,
     "metadata": {},
     "output_type": "execute_result"
    }
   ],
   "source": [
    "raw_df = raw_df.drop(columns=['ADDR']) # drop the Addr column\n",
    "raw_df.head()"
   ]
  },
  {
   "cell_type": "code",
   "execution_count": 237,
   "id": "989830b6-f4bd-40b7-ad6e-cc5417f681a2",
   "metadata": {},
   "outputs": [
    {
     "data": {
      "text/html": [
       "<div>\n",
       "<style scoped>\n",
       "    .dataframe tbody tr th:only-of-type {\n",
       "        vertical-align: middle;\n",
       "    }\n",
       "\n",
       "    .dataframe tbody tr th {\n",
       "        vertical-align: top;\n",
       "    }\n",
       "\n",
       "    .dataframe thead th {\n",
       "        text-align: right;\n",
       "    }\n",
       "</style>\n",
       "<table border=\"1\" class=\"dataframe\">\n",
       "  <thead>\n",
       "    <tr style=\"text-align: right;\">\n",
       "      <th></th>\n",
       "      <th>NAME</th>\n",
       "      <th>time</th>\n",
       "      <th>House add</th>\n",
       "      <th>street</th>\n",
       "      <th>city</th>\n",
       "      <th>state</th>\n",
       "      <th>zip</th>\n",
       "      <th>Year</th>\n",
       "      <th>Month</th>\n",
       "      <th>Date</th>\n",
       "    </tr>\n",
       "  </thead>\n",
       "  <tbody>\n",
       "    <tr>\n",
       "      <th>0</th>\n",
       "      <td>abc</td>\n",
       "      <td>8:30:21</td>\n",
       "      <td>45 rd</td>\n",
       "      <td>kenith street</td>\n",
       "      <td>btm</td>\n",
       "      <td>bangalore</td>\n",
       "      <td>500038</td>\n",
       "      <td>2022</td>\n",
       "      <td>04</td>\n",
       "      <td>03</td>\n",
       "    </tr>\n",
       "    <tr>\n",
       "      <th>1</th>\n",
       "      <td>dec</td>\n",
       "      <td>5:30:21</td>\n",
       "      <td>45 rd</td>\n",
       "      <td>street</td>\n",
       "      <td>hitech</td>\n",
       "      <td>Hd</td>\n",
       "      <td>500038</td>\n",
       "      <td>2022</td>\n",
       "      <td>04</td>\n",
       "      <td>02</td>\n",
       "    </tr>\n",
       "  </tbody>\n",
       "</table>\n",
       "</div>"
      ],
      "text/plain": [
       "  NAME     time House add          street     city       state      zip  Year  \\\n",
       "0  abc  8:30:21     45 rd   kenith street      btm   bangalore   500038  2022   \n",
       "1  dec  5:30:21     45 rd          street   hitech         Hd    500038  2022   \n",
       "\n",
       "  Month Date  \n",
       "0    04   03  \n",
       "1    04   02  "
      ]
     },
     "execution_count": 237,
     "metadata": {},
     "output_type": "execute_result"
    }
   ],
   "source": [
    "raw_df = raw_df.drop(columns=['DT']) # drop the DT column\n",
    "raw_df.head()"
   ]
  },
  {
   "cell_type": "code",
   "execution_count": 239,
   "id": "93bc53b2-d745-4af9-8641-4ac31b4da7d1",
   "metadata": {},
   "outputs": [
    {
     "data": {
      "text/html": [
       "<div>\n",
       "<style scoped>\n",
       "    .dataframe tbody tr th:only-of-type {\n",
       "        vertical-align: middle;\n",
       "    }\n",
       "\n",
       "    .dataframe tbody tr th {\n",
       "        vertical-align: top;\n",
       "    }\n",
       "\n",
       "    .dataframe thead th {\n",
       "        text-align: right;\n",
       "    }\n",
       "</style>\n",
       "<table border=\"1\" class=\"dataframe\">\n",
       "  <thead>\n",
       "    <tr style=\"text-align: right;\">\n",
       "      <th></th>\n",
       "      <th>NAME</th>\n",
       "      <th>House add</th>\n",
       "      <th>street</th>\n",
       "      <th>city</th>\n",
       "      <th>state</th>\n",
       "      <th>zip</th>\n",
       "      <th>Year</th>\n",
       "      <th>Month</th>\n",
       "      <th>Date</th>\n",
       "    </tr>\n",
       "  </thead>\n",
       "  <tbody>\n",
       "    <tr>\n",
       "      <th>0</th>\n",
       "      <td>abc</td>\n",
       "      <td>45 rd</td>\n",
       "      <td>kenith street</td>\n",
       "      <td>btm</td>\n",
       "      <td>bangalore</td>\n",
       "      <td>500038</td>\n",
       "      <td>2022</td>\n",
       "      <td>04</td>\n",
       "      <td>03</td>\n",
       "    </tr>\n",
       "    <tr>\n",
       "      <th>1</th>\n",
       "      <td>dec</td>\n",
       "      <td>45 rd</td>\n",
       "      <td>street</td>\n",
       "      <td>hitech</td>\n",
       "      <td>Hd</td>\n",
       "      <td>500038</td>\n",
       "      <td>2022</td>\n",
       "      <td>04</td>\n",
       "      <td>02</td>\n",
       "    </tr>\n",
       "  </tbody>\n",
       "</table>\n",
       "</div>"
      ],
      "text/plain": [
       "  NAME House add          street     city       state      zip  Year Month  \\\n",
       "0  abc     45 rd   kenith street      btm   bangalore   500038  2022    04   \n",
       "1  dec     45 rd          street   hitech         Hd    500038  2022    04   \n",
       "\n",
       "  Date  \n",
       "0   03  \n",
       "1   02  "
      ]
     },
     "execution_count": 239,
     "metadata": {},
     "output_type": "execute_result"
    }
   ],
   "source": [
    "raw_df = raw_df.drop(columns=['time']) # drop the time column\n",
    "raw_df.head()"
   ]
  },
  {
   "cell_type": "code",
   "execution_count": 241,
   "id": "b703bd52-1d5c-4e63-ba0c-f375ee87ca0b",
   "metadata": {},
   "outputs": [],
   "source": [
    "raw_df.to_csv(r\"C:\\Users\\Harshdeep\\Desktop\\data analytics\\18nov\\clean_dtt.csv\") # write clean data tp csv file"
   ]
  },
  {
   "cell_type": "code",
   "execution_count": null,
   "id": "da1c68e4-0ede-41e2-9095-64478c38f9ca",
   "metadata": {},
   "outputs": [],
   "source": []
  },
  {
   "cell_type": "code",
   "execution_count": null,
   "id": "f5ff2262-1c33-4365-93c7-875a2b5303e0",
   "metadata": {},
   "outputs": [],
   "source": []
  }
 ],
 "metadata": {
  "kernelspec": {
   "display_name": "Python 3 (ipykernel)",
   "language": "python",
   "name": "python3"
  },
  "language_info": {
   "codemirror_mode": {
    "name": "ipython",
    "version": 3
   },
   "file_extension": ".py",
   "mimetype": "text/x-python",
   "name": "python",
   "nbconvert_exporter": "python",
   "pygments_lexer": "ipython3",
   "version": "3.12.7"
  }
 },
 "nbformat": 4,
 "nbformat_minor": 5
}
